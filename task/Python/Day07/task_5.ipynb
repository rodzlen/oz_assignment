{
 "cells": [
  {
   "cell_type": "markdown",
   "metadata": {},
   "source": [
    "datetime 모듈을 사용하여 현재 날짜와 시간을 출력하는 프로그램을 작성하세요. \n",
    "\n",
    "또한, 사용자로부터 태어난 년도를 입력받아 현재 나이를 계산하여 출력하세요."
   ]
  },
  {
   "cell_type": "code",
   "execution_count": 4,
   "metadata": {},
   "outputs": [
    {
     "name": "stdout",
     "output_type": "stream",
     "text": [
      "2024/11/26 14:45\n",
      "28\n"
     ]
    }
   ],
   "source": [
    "import datetime as d\n",
    "q = d.datetime.now()\n",
    "def show_time():\n",
    "    \n",
    "    year = q.year\n",
    "    month = q.month\n",
    "    day = q.day\n",
    "    hour = q.hour\n",
    "    minute = q.minute\n",
    "\n",
    "    print(f'{year}/{month}/{day} {hour}:{minute}')\n",
    "\n",
    "def cal_birth(b_year):\n",
    "    age = q.year - b_year\n",
    "    print(age)\n",
    "\n",
    "\n",
    "show_time()\n",
    "cal_birth(1996)"
   ]
  }
 ],
 "metadata": {
  "kernelspec": {
   "display_name": "Python 3",
   "language": "python",
   "name": "python3"
  },
  "language_info": {
   "codemirror_mode": {
    "name": "ipython",
    "version": 3
   },
   "file_extension": ".py",
   "mimetype": "text/x-python",
   "name": "python",
   "nbconvert_exporter": "python",
   "pygments_lexer": "ipython3",
   "version": "3.13.0"
  }
 },
 "nbformat": 4,
 "nbformat_minor": 2
}
