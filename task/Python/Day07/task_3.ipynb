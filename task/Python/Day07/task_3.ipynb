{
 "cells": [
  {
   "cell_type": "markdown",
   "metadata": {},
   "source": [
    "사용자로부터 여러 개의 숫자를 입력받아 리스트에 저장한 후, 사용자가 'done'이라고 입력할 때까지 계속 입력받으세요. \n",
    "\n",
    "- 입력 중 숫자가 아닌 값이 입력되면 ValueError를 처리\n",
    "- 숫자 외 값이 입력된 경우 어떤 값이 잘못 입력되었는지 사용자에게 알려주는 문구 출력<br>\n",
    "  (예: f\"잘못된 값: {변수}. 숫자를 입력해주세요.\")\n",
    "\n"
   ]
  },
  {
   "cell_type": "code",
   "execution_count": 3,
   "metadata": {},
   "outputs": [
    {
     "name": "stdout",
     "output_type": "stream",
     "text": [
      "잘못된 값 : asd. 숫자만 입력해라\n",
      "잘못된 값 : asd. 숫자만 입력해라\n"
     ]
    }
   ],
   "source": [
    "num_list = []\n",
    "def add_li():\n",
    "    while True:\n",
    "        add_num = input(\"추가할 숫자를 입력\")\n",
    "        if add_num == \"done\":\n",
    "            break\n",
    "        else:\n",
    "            try:\n",
    "                num_list.append(int(add_num))\n",
    "            except ValueError :\n",
    "                print(f'잘못된 값 : {add_num}. 숫자만 입력해라')\n",
    "add_li()"
   ]
  }
 ],
 "metadata": {
  "kernelspec": {
   "display_name": "Python 3",
   "language": "python",
   "name": "python3"
  },
  "language_info": {
   "codemirror_mode": {
    "name": "ipython",
    "version": 3
   },
   "file_extension": ".py",
   "mimetype": "text/x-python",
   "name": "python",
   "nbconvert_exporter": "python",
   "pygments_lexer": "ipython3",
   "version": "3.13.0"
  }
 },
 "nbformat": 4,
 "nbformat_minor": 2
}
