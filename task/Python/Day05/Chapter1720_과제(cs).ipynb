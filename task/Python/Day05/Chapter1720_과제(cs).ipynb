{
 "cells": [
  {
   "cell_type": "markdown",
   "metadata": {
    "id": "WXEwMsfUct7U"
   },
   "source": [
    "컴퓨터 기초 지식을 의미하는 CS(Computer science)는<br>\n",
    "코딩 테스트와 함께 기술 면접에서 지원자에게 필수적으로 요구합니다.<br>\n",
    "\n",
    "수업 내용 중 기술 면접에 자주 나오는 질문 3가지와 기본적으로 알아야 할 내용 과제로 선정했습니다.<br>\n",
    "\n",
    "관련 내용에 대해서는 구글링 또는 관련 서적을 통해 상세히 공부하시고<br>\n",
    "답변은 최대한 핵심만 담아 간결하게 작성해주세요<br>\n",
    "\n",
    "기술 블로그를 운영 중이신 경우<br>\n",
    "답변 내용을 기술 블로그에 작성하신 후 링크를 답변에 남겨주셔도 됩니다.<br>"
   ]
  },
  {
   "cell_type": "markdown",
   "metadata": {
    "id": "qoyC9wF-3hvs"
   },
   "source": [
    "-----"
   ]
  },
  {
   "cell_type": "markdown",
   "metadata": {
    "id": "rAD_O3Gmc_43"
   },
   "source": [
    "[문제1]\n",
    "\n",
    "객체지향에 대해서 설명해주세요"
   ]
  },
  {
   "cell_type": "markdown",
   "metadata": {},
   "source": []
  },
  {
   "cell_type": "markdown",
   "metadata": {},
   "source": [
    "---"
   ]
  },
  {
   "cell_type": "markdown",
   "metadata": {
    "id": "3uK_auXYdgk2"
   },
   "source": [
    "[문제2]\n",
    "\n",
    "init 메소드에 대해 설명해주세요"
   ]
  },
  {
   "cell_type": "code",
   "execution_count": null,
   "metadata": {
    "id": "9kvBxa6PdhgA"
   },
   "outputs": [],
   "source": [
    "#init()은 클래스 내의 생성자를 초기화 하는 메서드로, 클래스를 객체로 선언할 때 받아오는 인자값을 파라미터로 처리하여 객체의 속성을 초기화 한다."
   ]
  },
  {
   "cell_type": "markdown",
   "metadata": {},
   "source": [
    "[문제3]\n",
    "\n",
    "클래스 상속에 대해 설명해주세요"
   ]
  },
  {
   "cell_type": "markdown",
   "metadata": {},
   "source": [
    "한 클래스의 속성을 그대로 가져와 사용하는 자식클래스, 자식클래스에게 속성을 상속 시키는 부모클래스가 있다. 자식클래스는 부모클래스에 있는 속성을 복사하여 사용하고 부모클래스는 자식클래스의 속성을 공유받지 않는 일방적인 관계가 성립한다. \n",
    "부모클래스 하나를 여러 클래스가 상속할 수 있다.\n",
    "자식클래스에서는 부모 클래스의 생성자를 공유하고 같은 이름의 메소드를 오버라이딩 할 수 있으며 이는 부모클래스의 메소드랑은 상관없다."
   ]
  },
  {
   "cell_type": "markdown",
   "metadata": {},
   "source": [
    "[문제4]\n",
    "\n",
    "클래스 다중 상속과 관련된 MRO에 대해 설명해주세요"
   ]
  },
  {
   "cell_type": "markdown",
   "metadata": {},
   "source": [
    "c3 선형 알고리즘을 사용하여 우선순위를 정한다. 여러 부모 클래스에 같은 객체가 있으면 상속 순서대로 우선순위를 정하고 간접적으로 상속받는 클래스 순서대로 탐색한다."
   ]
  },
  {
   "cell_type": "markdown",
   "metadata": {},
   "source": [
    "[문제5]\n",
    "\n",
    "Self는 어떤 키워드 인가요?"
   ]
  },
  {
   "cell_type": "markdown",
   "metadata": {},
   "source": [
    "자기 자신을 참조하는 키워드로 클래스 내의 인스턴스를 가리키는 변수로 클래스의 인스턴스 메소드에서 사용된다."
   ]
  },
  {
   "cell_type": "markdown",
   "metadata": {},
   "source": [
    "[문제6]\n",
    "\n",
    "ZeroDivisionError,  IndexError 외에 3가지 이상의 파이썬 에러에 대해 설명해주세요"
   ]
  },
  {
   "cell_type": "markdown",
   "metadata": {},
   "source": [
    "TypeError : 서로 다른 타입간 연산하려고 하면 발생하는 에러\n",
    "NameError : 정의되지 않은 변수를 참조할 때 발생하는 에러\n",
    "KeyError : dict() 객체에 존재하지 않는 키를 사용할 떄 발생하는 에러"
   ]
  }
 ],
 "metadata": {
  "colab": {
   "authorship_tag": "ABX9TyP7YKA5FdtGggYfD74V7SMJ",
   "provenance": []
  },
  "kernelspec": {
   "display_name": "Python 3",
   "name": "python3"
  },
  "language_info": {
   "name": "python"
  }
 },
 "nbformat": 4,
 "nbformat_minor": 0
}
