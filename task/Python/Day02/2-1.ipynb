{
 "cells": [
  {
   "cell_type": "markdown",
   "metadata": {},
   "source": [
    "- 1. 변수를 **선언**하는 것과 변수에 값을 **할당**하는 것의 차이에 대해 설명해주세요.\n",
    "- 2. a와 b라는 변수에 각각 1과 2를 할당해주세요. 그리고 두 변수가 가지고 있는 값을 서로 바꿔치기 (swap) 하는 코드를 작성해보세요! → 결과적으로 a에는 2가, b에는 1이 들어가 있어야 합니다.\n",
    "- 3. 아래 명세에 따른 프로그램을 작성해주세요 반드시 PEP8 코딩 컨벤션에 따르시길 바랍니다. (ADVANCED 👿)\n",
    "    - 붕어빵(팥)은 2000원, 붕어빵(슈크림)은 2500원, 붕어빵(잡채)는 3000원이라고 합시다. 3개의 줄을 입력받습니다. 각각 `잡채, 슈크림, 팥` 순입니다. `input` 과 `int`함수를 사용하여 붕어빵을 주문을 받고 영수증을 출력하는 프로그램을 작성해주세요."
   ]
  },
  {
   "cell_type": "markdown",
   "metadata": {},
   "source": [
    "1. 변수의 선언하게 되면 메모리에 공간이 생기고 할당은 변수에 값을 넣는 것인데 이 때 여러 자료형과 함수를 할당할 수 있다."
   ]
  },
  {
   "cell_type": "code",
   "execution_count": 5,
   "metadata": {},
   "outputs": [
    {
     "name": "stdout",
     "output_type": "stream",
     "text": [
      "2 2\n"
     ]
    }
   ],
   "source": [
    "# 2\n",
    "a = 1\n",
    "b = 2\n",
    "a = b \n",
    "b = a\n",
    "print(a,b)"
   ]
  },
  {
   "cell_type": "code",
   "execution_count": 4,
   "metadata": {},
   "outputs": [
    {
     "name": "stdout",
     "output_type": "stream",
     "text": [
      "주문이 완료되었습니다. 붕어빵(잡채) 0개,\n",
      "붕어빵(슈크림) 0개,\n",
      "붕어빵(팥) 0개\n",
      "총 0개 결제 금액은 0원입니다.\n"
     ]
    }
   ],
   "source": [
    "# 3\n",
    "# 변수선언 snake__case 적용 - 언더바 두개\n",
    "# 예외처리는 안했음\n",
    "\n",
    "# 붕어빵 별 가격\n",
    "pat__bung = 2000\n",
    "schu__bung = 2500\n",
    "jab__bung = 3000\n",
    "\n",
    "# 각 붕어빵별 구매 수량\n",
    "quantity_jab__bung = (int(input(\"구매할 붕어빵(잡채) 수량을 입력: \")))\n",
    "quantity_schu__bung = (int(input(\"구매할 붕어빵(슈크림) 수량을 입력 : \")))\n",
    "quantity__pat__bung = (int(input(\"구매할 붕어빵(팥) 수량을 입력 : \")))\n",
    "\n",
    "# 구매 수량의 합\n",
    "sum = quantity_jab__bung + quantity_schu__bung + quantity__pat__bung\n",
    "\n",
    "# 총 가격\n",
    "total = (pat__bung * quantity__pat__bung) + (schu__bung * quantity_schu__bung) + (jab__bung * quantity_jab__bung)\n",
    "\n",
    "print(f\"주문이 완료되었습니다. 붕어빵(잡채) {quantity_jab__bung}개,\\n붕어빵(슈크림) {quantity_schu__bung}개,\\n붕어빵(팥) {quantity__pat__bung}개\\n총 {sum}개 결제 금액은 {total}원입니다.\")"
   ]
  }
 ],
 "metadata": {
  "kernelspec": {
   "display_name": "Python 3",
   "language": "python",
   "name": "python3"
  },
  "language_info": {
   "codemirror_mode": {
    "name": "ipython",
    "version": 3
   },
   "file_extension": ".py",
   "mimetype": "text/x-python",
   "name": "python",
   "nbconvert_exporter": "python",
   "pygments_lexer": "ipython3",
   "version": "3.13.0"
  }
 },
 "nbformat": 4,
 "nbformat_minor": 2
}
